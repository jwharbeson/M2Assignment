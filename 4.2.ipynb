{
 "cells": [
  {
   "cell_type": "code",
   "execution_count": null,
   "id": "f8d78db0-4b62-4cae-afff-9235feefbb18",
   "metadata": {},
   "outputs": [],
   "source": [
    "small = True\n",
    "green = False\n",
    "\n",
    "if small and green:\n",
    "    print('pea')\n",
    "elif small and not green:\n",
    "    print('cherry')\n",
    "elif not small and green:\n",
    "    print('watermelon')\n",
    "else:\n",
    "    print('pumpkin')\n"
   ]
  }
 ],
 "metadata": {
  "kernelspec": {
   "display_name": "Python 3 (ipykernel)",
   "language": "python",
   "name": "python3"
  },
  "language_info": {
   "codemirror_mode": {
    "name": "ipython",
    "version": 3
   },
   "file_extension": ".py",
   "mimetype": "text/x-python",
   "name": "python",
   "nbconvert_exporter": "python",
   "pygments_lexer": "ipython3",
   "version": "3.12.4"
  }
 },
 "nbformat": 4,
 "nbformat_minor": 5
}
