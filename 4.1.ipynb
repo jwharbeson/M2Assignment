{
 "cells": [
  {
   "cell_type": "code",
   "execution_count": null,
   "id": "ccf9aa63-b92b-4982-94d3-9130877dd424",
   "metadata": {},
   "outputs": [],
   "source": [
    "secret = 7 \n",
    "guess = 5   \n",
    "\n",
    "if guess < secret:\n",
    "    print('too low')\n",
    "elif guess > secret:\n",
    "    print('too high')\n",
    "else:\n",
    "    print('just right')"
   ]
  }
 ],
 "metadata": {
  "kernelspec": {
   "display_name": "Python 3 (ipykernel)",
   "language": "python",
   "name": "python3"
  },
  "language_info": {
   "codemirror_mode": {
    "name": "ipython",
    "version": 3
   },
   "file_extension": ".py",
   "mimetype": "text/x-python",
   "name": "python",
   "nbconvert_exporter": "python",
   "pygments_lexer": "ipython3",
   "version": "3.12.4"
  }
 },
 "nbformat": 4,
 "nbformat_minor": 5
}
